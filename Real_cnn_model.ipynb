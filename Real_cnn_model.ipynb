{
 "cells": [
  {
   "cell_type": "code",
   "execution_count": 24,
   "id": "e8d36086",
   "metadata": {},
   "outputs": [],
   "source": [
    "import pandas as pd\n",
    "import numpy as np\n",
    "import re\n",
    "import torch\n",
    "import torch.nn as nn\n",
    "import torch.nn.functional as F\n",
    "from tqdm import tqdm\n",
    "from collections import Counter\n",
    "from konlpy.tag import Okt\n",
    "from sklearn.model_selection import train_test_split\n",
    "from sklearn.metrics import classification_report\n",
    "from torch.utils.data import DataLoader, TensorDataset"
   ]
  },
  {
   "cell_type": "code",
   "execution_count": 25,
   "id": "48f30b14",
   "metadata": {},
   "outputs": [],
   "source": [
    "# 텍스트 데이터 로딩\n",
    "df = pd.read_csv('../11th_project/naver_shopping.txt', sep=\"\\t\", names=[\"sentiment_four\", \"review\"])\n",
    "\n",
    "# 감정 점수 1, 2 → 부정(0), 4, 5 → 긍정(1) 으로 이진 분류 레이블 변경\n",
    "df = df[df['sentiment_four'].isin([1, 2, 4, 5])]\n",
    "df['sentiment'] = df['sentiment_four'].replace({1: 0, 2: 0, 4: 1, 5: 1})"
   ]
  },
  {
   "cell_type": "code",
   "execution_count": 26,
   "id": "18ef9906",
   "metadata": {},
   "outputs": [
    {
     "data": {
      "text/plain": [
       "sentiment\n",
       "0    25229\n",
       "1    24771\n",
       "Name: count, dtype: int64"
      ]
     },
     "execution_count": 26,
     "metadata": {},
     "output_type": "execute_result"
    }
   ],
   "source": [
    "df['sentiment'].value_counts()"
   ]
  },
  {
   "cell_type": "code",
   "execution_count": 27,
   "id": "d4b62384",
   "metadata": {},
   "outputs": [
    {
     "data": {
      "text/plain": [
       "<Axes: xlabel='sentiment_four'>"
      ]
     },
     "execution_count": 27,
     "metadata": {},
     "output_type": "execute_result"
    },
    {
     "data": {
      "image/png": "[encoded data removed]",
      "text/plain": [
       "<Figure size 640x480 with 1 Axes>"
      ]
     },
     "metadata": {},
     "output_type": "display_data"
    }
   ],
   "source": [
    "df['sentiment_four'].value_counts().plot(kind='bar', color = 'orange')"
   ]
  },
  {
   "cell_type": "code",
   "execution_count": 28,
   "id": "78bef725",
   "metadata": {},
   "outputs": [
    {
     "data": {
      "text/plain": [
       "<Axes: xlabel='sentiment'>"
      ]
     },
     "execution_count": 28,
     "metadata": {},
     "output_type": "execute_result"
    },
    {
     "data": {
      "image/png": "[encoded data removed]",
      "text/plain": [
       "<Figure size 640x480 with 1 Axes>"
      ]
     },
     "metadata": {},
     "output_type": "display_data"
    }
   ],
   "source": [
    "df['sentiment'].value_counts().plot(kind='bar', color = 'green')"
   ]
  },
  {
   "cell_type": "code",
   "execution_count": 29,
   "id": "48dc00c5",
   "metadata": {},
   "outputs": [
    {
     "name": "stderr",
     "output_type": "stream",
     "text": [
      "Tokenizing: 100%|██████████| 50000/50000 [01:36<00:00, 518.25it/s]\n"
     ]
    }
   ],
   "source": [
    "# 전처리 함수 정의\n",
    "okt = Okt()\n",
    "stopwords = set([\n",
    "    '의','가','이','은','들','는','좀','잘','걍','과','도','를',\n",
    "    '으로','자','에','와','한','하다','있다','되다','되','이렇다'\n",
    "])\n",
    "\n",
    "# 리뷰 텍스트 전처리 함수 정의\n",
    "def preprocess_korean_text(text):\n",
    "    text = str(text).lower()                                  # 소문자 변환\n",
    "    text = re.sub(r\"\\d+\", \"\", text)                           # 숫자 제거\n",
    "    text = re.sub(r\"[^\\uAC00-\\uD7A30-9a-zA-Z\\s]\", \"\", text)   # 특수문자, 이모티콘, 구두점 제거\n",
    "    tokens = okt.morphs(text, stem=True)                      # 형태소 분석 + 어간 추출\n",
    "    tokens = [t for t in tokens if t not in stopwords]        # 불용어 제거\n",
    "    return tokens\n",
    "\n",
    "# 전체 데이터 토큰화\n",
    "def tokenize(sentences):\n",
    "    return [preprocess_korean_text(sent) for sent in tqdm(sentences, desc=\"Tokenizing\")]\n",
    "\n",
    "tokenized_data = tokenize(df['review'].tolist())"
   ]
  },
  {
   "cell_type": "code",
   "execution_count": 30,
   "id": "ce7a5683",
   "metadata": {},
   "outputs": [],
   "source": [
    "# 모든 토큰을 하나의 리스트로 결합\n",
    "word_list = [word for sent in tokenized_data for word in sent]\n",
    "\n",
    "# 단어 빈도 수 계산\n",
    "word_counts = Counter(word_list)\n",
    "\n",
    "# 빈도순으로 정렬된 단어 리스트 생성 (단어 등장 3회 이상만 사용)\n",
    "vocab = sorted(word_counts, key=word_counts.get, reverse=True)\n",
    "vocab = [w for w in vocab if word_counts[w] >= 3]\n",
    "\n",
    "# 단어 → 인덱스 사전 생성\n",
    "word_to_index = {'<PAD>': 0, '<UNK>': 1}\n",
    "for idx, word in enumerate(vocab):\n",
    "    word_to_index[word] = idx + 2\n",
    "vocab_size = len(word_to_index)"
   ]
  },
  {
   "cell_type": "code",
   "execution_count": 31,
   "id": "e2ed59f8",
   "metadata": {},
   "outputs": [],
   "source": [
    "# 단어 인덱스 시퀀스로 변환\n",
    "def texts_to_sequences(tokenized_data, word_to_index):\n",
    "    return [[word_to_index.get(w, 1) for w in sent] for sent in tokenized_data]\n",
    "\n",
    "encoded_data = texts_to_sequences(tokenized_data, word_to_index)"
   ]
  },
  {
   "cell_type": "code",
   "execution_count": 32,
   "id": "66560547",
   "metadata": {},
   "outputs": [],
   "source": [
    "# 시퀀스를 동일 길이(30)로 패딩\n",
    "def pad_sequences(sequences, max_len=30):\n",
    "    padded = np.zeros((len(sequences), max_len), dtype=int)\n",
    "    for i, seq in enumerate(sequences):\n",
    "        padded[i, :len(seq[:max_len])] = np.array(seq[:max_len])\n",
    "    return padded\n",
    "\n",
    "padded_data = pad_sequences(encoded_data, max_len=30)"
   ]
  },
  {
   "cell_type": "code",
   "execution_count": 33,
   "id": "acdc29ab",
   "metadata": {},
   "outputs": [],
   "source": [
    "# 학습/검증/테스트셋 분리 (비율: 50/40/10)\n",
    "X_train, X_test, y_train, y_test = train_test_split(\n",
    "    padded_data, df['sentiment'], test_size=0.5, random_state=0, stratify=df['sentiment'])\n",
    "X_train, X_valid, y_train, y_valid = train_test_split(\n",
    "    X_train, y_train, test_size=0.2, random_state=0, stratify=y_train)"
   ]
  },
  {
   "cell_type": "code",
   "execution_count": 34,
   "id": "d73de351",
   "metadata": {},
   "outputs": [
    {
     "name": "stdout",
     "output_type": "stream",
     "text": [
      "--------훈련 데이터의 비율-----------\n",
      "부정 리뷰 = 50.455%\n",
      "긍정 리뷰 = 49.545%\n",
      "--------검증 데이터의 비율-----------\n",
      "부정 리뷰 = 50.46%\n",
      "긍정 리뷰 = 49.54%\n",
      "--------테스트 데이터의 비율-----------\n",
      "부정 리뷰 = 50.46%\n",
      "긍정 리뷰 = 49.54%\n"
     ]
    }
   ],
   "source": [
    "print('--------훈련 데이터의 비율-----------')\n",
    "print(f'부정 리뷰 = {round(y_train.value_counts()[0]/len(y_train) * 100,3)}%')\n",
    "print(f'긍정 리뷰 = {round(y_train.value_counts()[1]/len(y_train) * 100,3)}%')\n",
    "print('--------검증 데이터의 비율-----------')\n",
    "print(f'부정 리뷰 = {round(y_valid.value_counts()[0]/len(y_valid) * 100,3)}%')\n",
    "print(f'긍정 리뷰 = {round(y_valid.value_counts()[1]/len(y_valid) * 100,3)}%')\n",
    "print('--------테스트 데이터의 비율-----------')\n",
    "print(f'부정 리뷰 = {round(y_test.value_counts()[0]/len(y_test) * 100,3)}%')\n",
    "print(f'긍정 리뷰 = {round(y_test.value_counts()[1]/len(y_test) * 100,3)}%')"
   ]
  },
  {
   "cell_type": "code",
   "execution_count": 35,
   "id": "f6974c25",
   "metadata": {},
   "outputs": [],
   "source": [
    "# PyTorch 텐서로 변환\n",
    "train_tensor = torch.tensor(X_train, dtype=torch.long)\n",
    "valid_tensor = torch.tensor(X_valid, dtype=torch.long)\n",
    "test_tensor = torch.tensor(X_test, dtype=torch.long)\n",
    "\n",
    "y_train_tensor = torch.tensor(np.array(y_train), dtype=torch.long)\n",
    "y_valid_tensor = torch.tensor(np.array(y_valid), dtype=torch.long)\n",
    "y_test_tensor = torch.tensor(np.array(y_test), dtype=torch.long)\n",
    "\n",
    "# 데이터로더 구성\n",
    "train_loader = DataLoader(TensorDataset(train_tensor, y_train_tensor), batch_size=32, shuffle=True)\n",
    "valid_loader = DataLoader(TensorDataset(valid_tensor, y_valid_tensor), batch_size=1, shuffle=False)\n",
    "test_loader = DataLoader(TensorDataset(test_tensor, y_test_tensor), batch_size=1, shuffle=False)"
   ]
  },
  {
   "cell_type": "code",
   "execution_count": 36,
   "id": "9ca3ca99",
   "metadata": {},
   "outputs": [],
   "source": [
    "# CNN 기반 텍스트 분류 모델\n",
    "class CNN(nn.Module):\n",
    "    def __init__(self, vocab_size, num_labels):\n",
    "        super(CNN, self).__init__()\n",
    "        self.embedding = nn.Embedding(vocab_size, 128, padding_idx=0)\n",
    "        self.conv1 = nn.Conv1d(128, 256, 5)\n",
    "        self.dropout = nn.Dropout(0.5)\n",
    "        self.fc = nn.Linear(256, num_labels)\n",
    "\n",
    "    def forward(self, x):\n",
    "        x = self.embedding(x).permute(0, 2, 1)\n",
    "        x = F.relu(self.conv1(x)).permute(0, 2, 1).max(1)[0]\n",
    "        x = self.dropout(x)\n",
    "        return self.fc(x)"
   ]
  },
  {
   "cell_type": "code",
   "execution_count": 37,
   "id": "297cdcbf",
   "metadata": {},
   "outputs": [],
   "source": [
    "# 학습 준비\n",
    "device = torch.device(\"cuda\" if torch.cuda.is_available() else \"cpu\")\n",
    "model = CNN(vocab_size, num_labels=2).to(device)\n",
    "criterion = nn.CrossEntropyLoss()\n",
    "optimizer = torch.optim.Adam(model.parameters(), lr=0.001)"
   ]
  },
  {
   "cell_type": "code",
   "execution_count": 38,
   "id": "90ba7234",
   "metadata": {},
   "outputs": [],
   "source": [
    "# 정확도 계산 함수\n",
    "def calculate_accuracy(logits, labels):\n",
    "    preds = torch.argmax(logits, dim=1)\n",
    "    return (preds == labels).sum().item() / labels.size(0)\n",
    "\n",
    "# 평가 함수 (손실, 정확도, 예측값 등 계산)\n",
    "def evaluate(model, dataloader, criterion):\n",
    "    model.eval()\n",
    "    total_loss, total_correct, total_len = 0, 0, 0\n",
    "    all_preds, all_labels = [], []\n",
    "    with torch.no_grad():\n",
    "        for X_batch, y_batch in dataloader:\n",
    "            X_batch, y_batch = X_batch.to(device), y_batch.to(device)\n",
    "            outputs = model(X_batch)\n",
    "            loss = criterion(outputs, y_batch)\n",
    "            total_loss += loss.item()\n",
    "            total_correct += calculate_accuracy(outputs, y_batch) * y_batch.size(0)\n",
    "            total_len += y_batch.size(0)\n",
    "            all_preds.extend(torch.argmax(outputs, dim=1).cpu().numpy())\n",
    "            all_labels.extend(y_batch.cpu().numpy())\n",
    "    return total_loss / len(dataloader), total_correct / total_len, all_preds, all_labels"
   ]
  },
  {
   "cell_type": "code",
   "execution_count": 39,
   "id": "4fb4fd70",
   "metadata": {},
   "outputs": [
    {
     "name": "stdout",
     "output_type": "stream",
     "text": [
      "Epoch 1/30:\n",
      "Train Loss: 0.4619, Train Accuracy: 0.7868\n",
      "Validation Loss: 0.3927, Validation Accuracy: 0.8272\n",
      "Model improved. Saved.\n",
      "Epoch 2/30:\n",
      "Train Loss: 0.3333, Train Accuracy: 0.8629\n",
      "Validation Loss: 0.3346, Validation Accuracy: 0.8592\n",
      "Model improved. Saved.\n",
      "Epoch 3/30:\n",
      "Train Loss: 0.2681, Train Accuracy: 0.8939\n",
      "Validation Loss: 0.3330, Validation Accuracy: 0.8664\n",
      "Model improved. Saved.\n",
      "Epoch 4/30:\n",
      "Train Loss: 0.2272, Train Accuracy: 0.9123\n",
      "Validation Loss: 0.3808, Validation Accuracy: 0.8544\n",
      "Epoch 5/30:\n",
      "Train Loss: 0.1907, Train Accuracy: 0.9289\n",
      "Validation Loss: 0.3634, Validation Accuracy: 0.8612\n",
      "Epoch 6/30:\n",
      "Train Loss: 0.1620, Train Accuracy: 0.9412\n",
      "Validation Loss: 0.3895, Validation Accuracy: 0.8652\n",
      "Epoch 7/30:\n",
      "Train Loss: 0.1368, Train Accuracy: 0.9497\n",
      "Validation Loss: 0.4167, Validation Accuracy: 0.8656\n",
      "Epoch 8/30:\n",
      "Train Loss: 0.1143, Train Accuracy: 0.9573\n",
      "Validation Loss: 0.4479, Validation Accuracy: 0.8644\n",
      "Early stopping.\n"
     ]
    }
   ],
   "source": [
    "\n",
    "best_val_loss = float('inf')\n",
    "patience = 5\n",
    "epochs = 30\n",
    "no_improve = 0\n",
    "\n",
    "for epoch in range(epochs):\n",
    "    model.train()\n",
    "    total_loss, total_correct, total_len = 0, 0, 0\n",
    "\n",
    "    for X_batch, y_batch in train_loader:\n",
    "        X_batch, y_batch = X_batch.to(device), y_batch.to(device)\n",
    "        optimizer.zero_grad()\n",
    "        outputs = model(X_batch)\n",
    "        loss = criterion(outputs, y_batch)\n",
    "        loss.backward()\n",
    "        optimizer.step()\n",
    "        total_loss += loss.item()\n",
    "        total_correct += calculate_accuracy(outputs, y_batch) * y_batch.size(0)\n",
    "        total_len += y_batch.size(0)\n",
    "\n",
    "    train_loss = total_loss / len(train_loader)\n",
    "    train_accuracy = total_correct / total_len\n",
    "\n",
    "    val_loss, val_accuracy, _, _ = evaluate(model, valid_loader, criterion)\n",
    "\n",
    "    # 로그 출력\n",
    "    print(f\"Epoch {epoch+1}/{epochs}:\")\n",
    "    print(f\"Train Loss: {train_loss:.4f}, Train Accuracy: {train_accuracy:.4f}\")\n",
    "    print(f\"Validation Loss: {val_loss:.4f}, Validation Accuracy: {val_accuracy:.4f}\")\n",
    "\n",
    "    if val_loss < best_val_loss:\n",
    "        best_val_loss = val_loss\n",
    "        no_improve = 0\n",
    "        torch.save(model.state_dict(), \"cnn_best_model.pt\")\n",
    "        print(\"Model improved. Saved.\")\n",
    "    else:\n",
    "        no_improve += 1\n",
    "        if no_improve >= patience:\n",
    "            print(\"Early stopping.\")\n",
    "            break"
   ]
  },
  {
   "cell_type": "code",
   "execution_count": 40,
   "id": "1cd8e657",
   "metadata": {},
   "outputs": [
    {
     "name": "stdout",
     "output_type": "stream",
     "text": [
      "\n",
      " 성능 평가 (Test Set):\n",
      "              precision    recall  f1-score   support\n",
      "\n",
      "          부정       0.86      0.89      0.87     12615\n",
      "          긍정       0.88      0.85      0.86     12385\n",
      "\n",
      "    accuracy                           0.87     25000\n",
      "   macro avg       0.87      0.87      0.87     25000\n",
      "weighted avg       0.87      0.87      0.87     25000\n",
      "\n"
     ]
    }
   ],
   "source": [
    "# 저장된 모델 불러와서 테스트셋 평가\n",
    "model.load_state_dict(torch.load(\"cnn_best_model.pt\"))\n",
    "model.to(device)\n",
    "_, _, test_preds, test_labels = evaluate(model, test_loader, criterion)\n",
    "\n",
    "print(\"\\n 성능 평가 (Test Set):\")\n",
    "print(classification_report(test_labels, test_preds, target_names=['부정', '긍정']))"
   ]
  },
  {
   "cell_type": "code",
   "execution_count": 41,
   "id": "80c7f711",
   "metadata": {},
   "outputs": [],
   "source": [
    "index_to_tag = {\n",
    "    0: \"부정\",\n",
    "    1: \"긍정\"\n",
    "}"
   ]
  },
  {
   "cell_type": "code",
   "execution_count": 42,
   "id": "47871a2f",
   "metadata": {},
   "outputs": [],
   "source": [
    "# 입력 문장 예측 함수\n",
    "def predict(text):\n",
    "    model.eval()\n",
    "    tokens = preprocess_korean_text(text)\n",
    "    indices = [word_to_index.get(t, 1) for t in tokens]\n",
    "    \n",
    "    # 최소 길이 보장: 30으로 패딩\n",
    "    max_len = 30\n",
    "    if len(indices) < max_len:\n",
    "        indices += [0] * (max_len - len(indices))\n",
    "    else:\n",
    "        indices = indices[:max_len]\n",
    "    \n",
    "    input_tensor = torch.tensor([indices], dtype=torch.long).to(device)\n",
    "    with torch.no_grad():\n",
    "        output = model(input_tensor)\n",
    "        predicted = torch.argmax(output, dim=1)\n",
    "        return index_to_tag[predicted.item()]\n"
   ]
  },
  {
   "cell_type": "code",
   "execution_count": 43,
   "id": "f69c31a2",
   "metadata": {},
   "outputs": [
    {
     "name": "stdout",
     "output_type": "stream",
     "text": [
      "부정\n"
     ]
    }
   ],
   "source": [
    "print(predict(\"별루\"))"
   ]
  },
  {
   "cell_type": "code",
   "execution_count": null,
   "id": "6ed2862d",
   "metadata": {},
   "outputs": [],
   "source": []
  }
 ],
 "metadata": {
  "kernelspec": {
   "display_name": "NLP",
   "language": "python",
   "name": "python3"
  },
  "language_info": {
   "codemirror_mode": {
    "name": "ipython",
    "version": 3
   },
   "file_extension": ".py",
   "mimetype": "text/x-python",
   "name": "python",
   "nbconvert_exporter": "python",
   "pygments_lexer": "ipython3",
   "version": "3.8.20"
  }
 },
 "nbformat": 4,
 "nbformat_minor": 5
}
